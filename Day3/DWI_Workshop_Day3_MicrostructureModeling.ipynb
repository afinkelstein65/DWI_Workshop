{
 "cells": [
  {
   "cell_type": "markdown",
   "id": "b3ce5c38",
   "metadata": {},
   "source": [
    "# DWI Workshop - Day 3 \n",
    "\n",
    "## Microstructural Models \n",
    "\n",
    "Mechanistic Models - relate DWI to biophysical parameters, repreenting the tissue with a finite number of compartments. \n",
    "\n",
    "    1. IVIM \n",
    "    2. Ball & Stick\n",
    "    3. CHARMED - Composite Hindered and Restricted Models watEr Diffusion\n",
    "        -restricted diffusion intracellularly and hindered between.\n",
    "    4. NDI - neurite density model\n",
    "        -model described as convolution between fODF and a kernel. Similarly to CSD. However rather than having kernel represent directions, we have kernel represent different fractional volume compartments. \n",
    "    5. NODDI - Neurite Orientation Density and Dispersion \n",
    "        Decrease ODF parameters, fix ODF as a watson distribution - gaussian function in spherical coordinates. However, does not represent crossing fibers. Can also model free water. \n",
    "    6. TEdDI \n",
    "    7. fw-DTI"
   ]
  },
  {
   "cell_type": "code",
   "execution_count": null,
   "id": "4bee509e",
   "metadata": {},
   "outputs": [],
   "source": []
  }
 ],
 "metadata": {
  "kernelspec": {
   "display_name": "Python 3",
   "language": "python",
   "name": "python3"
  },
  "language_info": {
   "codemirror_mode": {
    "name": "ipython",
    "version": 3
   },
   "file_extension": ".py",
   "mimetype": "text/x-python",
   "name": "python",
   "nbconvert_exporter": "python",
   "pygments_lexer": "ipython3",
   "version": "3.8.8"
  }
 },
 "nbformat": 4,
 "nbformat_minor": 5
}

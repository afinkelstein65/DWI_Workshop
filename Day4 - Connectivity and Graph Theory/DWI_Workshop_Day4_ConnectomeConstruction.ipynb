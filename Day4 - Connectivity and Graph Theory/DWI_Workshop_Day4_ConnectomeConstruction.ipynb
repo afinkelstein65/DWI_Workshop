{
 "cells": [
  {
   "attachments": {},
   "cell_type": "markdown",
   "id": "4fc06da9",
   "metadata": {},
   "source": [
    "# DWI Workshop - Connectivity\n",
    "\n",
    "Once you have a tractogram with your candidate streamlines there are then different ways to analyze your tractogram. One of the most common and popular currently is to perform connectivity analysis. \n",
    "\n",
    "\n",
    "## What is a Graph? \n",
    "\n",
    "A graph is a collection of nodes and edges. A comprehensive set of all pairwise connections in the brain defines the topology of a brain network providing a connectome. Graphs can be directed or undirected, and weighted or binary. In terms of structural connectivity (SC) a graph can be visualized as a connectivity or adjacency matrix. A connectivity matrix is an NxN matrix, where each node represents a region of interest corresponding to a label from an atlas. \n",
    "\n",
    "## How to define nodes? \n",
    "\n",
    "Nodes are defined typically from a brain parcellation of anatomical MRI data (e.g., freesurfer - DKT, Destrieux, Glasser). These will define the rows and columns of your connectivity matrix. Topological characteristics (graph theory measures) are dependent on the choice of parcellation scheme and may influence group differences. There is no consensus as to which brain parcellation scheme is optimal. Further, it is suggested that parcellations be filtered prior to connectome generation. For instance it would be incorrect to include labels corresponding to white matter or CSF. \n",
    "\n",
    "## How to define edges? \n",
    "\n",
    "The edge is what we are defining as connectivity, what connects two nodes. This can be the number, length, or volume of streamlines between two nodes. Or, it can be defined by the mean values of a diffusion metrics along the path of the streamlines/fiber bundles between two nodes. This can be the ADC, FA, MD, RD, ICVF, ODI, NDI (NODDI metrics), the AFC, g-ratio or even T1 and T2 values. \n",
    "\n",
    "## Streamline to Node Assignment \n",
    "\n",
    "\n",
    "<p align='center'>\n",
    "  <img src =\"images/DefiningNodes.jpg\" alt='fodf' width=400/>\n",
    "</p>\n"
   ]
  },
  {
   "cell_type": "code",
   "execution_count": 3,
   "id": "5559db94",
   "metadata": {},
   "outputs": [],
   "source": [
    "# Generation of a connectivity matrix \n",
    "\n",
    "# This can be done using scilpy or mrtrix3. \n",
    "\n",
    "# We have provided a script for you based on a scilpy script. This script is specfific for the DKT atlas, \n",
    "# aparc+aseg.mgz, obtained after running freesurfer. You will need to update the labels in the script accordingly \n",
    "# based on what atlas you use, and the corresponding labels obtained from a lookup table. \n"
   ]
  },
  {
   "cell_type": "markdown",
   "id": "889ed1f9",
   "metadata": {},
   "source": [
    "bash runConnectivy.sh \n",
    "\n",
    "This will ensure labels are isotropic and cleaned, and also update the headers with the appropriate information\n",
    "Then it will call scil_compute_connectivity.py to compute the SC matrix based on the fiber count. \n",
    "\n",
    "* Clean Labels. \n",
    "* Generate Connectivity Matrix \n",
    "* Post process \n",
    "\n",
    "in addition one can run [tck2connectome](https://mrtrix.readthedocs.io/en/dev/reference/commands/tck2connectome.html) in mrtrix after ensuring the labels are isotropic and cleaned, meaning CSF and WM labels are removed. This will allow one to then create an SC matrix weighted by any metric, such as FA, MD, etc...\n",
    " \n",
    "However, while interesting a caveat is that these may make subsequent interpretation of some GT metrics less interpretable. For instance calculating the distance between two ROIs or nodes, is not as interpretable when based off of FA compared to a conventional euclidian distance. \n",
    "\n"
   ]
  },
  {
   "cell_type": "code",
   "execution_count": null,
   "id": "086e9e5a",
   "metadata": {},
   "outputs": [],
   "source": [
    "# In mrtrix \n",
    "\n",
    "#tck2connectome tracks_in connectome_out\n",
    "\n",
    "# to generate where the value of connectivity is mean FA \n",
    "\n",
    "#tcksample tracks.tck FA.mif mean_FA_per_streamline.csv -stat_tck mean\n",
    "#tck2connectome tracks.tck nodes.mif mean_FA_connectome.csv -scale_file mean_FA_per_streamline.csv -stat_edge mean\n"
   ]
  },
  {
   "cell_type": "code",
   "execution_count": 7,
   "id": "5f17d25f",
   "metadata": {},
   "outputs": [
    {
     "name": "stdout",
     "output_type": "stream",
     "text": [
      "/Users/afinkelstein/Documents/Projects/Data/Connectivity\n"
     ]
    }
   ],
   "source": [
    "%cd /Users/afinkelstein/Documents/Projects/Data/Connectivity "
   ]
  },
  {
   "cell_type": "code",
   "execution_count": 37,
   "id": "deaa1b77",
   "metadata": {},
   "outputs": [
    {
     "data": {
      "image/png": "[encoded data removed]",
      "text/plain": [
       "<Figure size 1000x1000 with 2 Axes>"
      ]
     },
     "metadata": {},
     "output_type": "display_data"
    }
   ],
   "source": [
    "import numpy as np\n",
    "import matplotlib.pyplot as plt \n",
    "\n",
    "tmp_mat = np.load('final_matrix.npy')\n",
    "tmp_mat2 =np.zeros_like(tmp_mat)\n",
    "for i in range(tmp_mat.shape[0]):\n",
    "    for j in range(tmp_mat.shape[1]):\n",
    "        if i == j: \n",
    "            tmp_mat2[i,j] =0 # Pre-requistie for graph theory. Self connections are set to zero. \n",
    "        elif i < j:\n",
    "            tmp_mat2[j,i] = tmp_mat[i,j] # Matrix is symmetric about the diagonal. \n",
    "            tmp_mat2[i,j] = tmp_mat[i,j]\n",
    "\n",
    "plt.figure(figsize=(10,10))\n",
    "plt.subplot(121)\n",
    "plt.imshow(tmp_mat,cmap='jet'), plt.axis('off'), plt.clim(0,200),\n",
    "plt.subplot(122), plt.imshow(tmp_mat2, cmap='jet'), plt.axis('off')\n",
    "plt.clim(0,200)\n",
    "plt.show()"
   ]
  },
  {
   "cell_type": "code",
   "execution_count": 39,
   "id": "32930ab2",
   "metadata": {},
   "outputs": [
    {
     "name": "stdout",
     "output_type": "stream",
     "text": [
      "/Users/afinkelstein/Documents/Projects/Data\n"
     ]
    }
   ],
   "source": [
    "%cd /Users/afinkelstein/Documents/Projects/Data\n",
    "!mrview labels_cleaned_connectivity.nii.gz -connectome.init labels_cleaned_connectivity.nii.gz -connectome.load connectome2.csv"
   ]
  },
  {
   "cell_type": "markdown",
   "id": "3bdbc5d8",
   "metadata": {},
   "source": [
    "#### We can also view the SC matrix as a 3D-representation, where the spheres represent the nodes, and the lines represent the edges.\n",
    "\n",
    "<table><tr>\n",
    "    <td> <img src =\"images/3DConnectivity2.png\" alt='fodf' width=500/> </td>\n",
    "    <td><img src =\"images/3DConnectivity3.png\" alt='fodf' width=500/></td>\n",
    "</tr></table>\n"
   ]
  },
  {
   "cell_type": "markdown",
   "id": "b753cf81",
   "metadata": {},
   "source": [
    "## [Graph Theory](https://reader.elsevier.com/reader/sd/pii/S105381190901074X?token=792EC80EB39F420CF70658E7BC326DC4731529F0F21C65D91E6684CA56096FC80A7EE205BDFC12671A9283D15042BD0C&originRegion=us-east-1&originCreation=20230309233321)\n",
    "\n",
    "For an further or more technical explanation of the different graph theory metrics and functions please see the following [website](https://sites.google.com/site/bctnet/). \n",
    "\n",
    "<p align='center'>\n",
    "  <img src =\"images/GraphMeasures.png\" alt='fodf' width=500/>\n",
    "</p>\n",
    "\n",
    "Briefly:\n",
    "* Matrices must be square (NxN), rows and columns should represent network nodes, and entries represent network links (FA, fiber count, etc.). \n",
    "* Matrices should be > 20.\n",
    "* Matrices may be binary or weighted, directed or undirected. \n",
    "* Matrices should not have self-connections (diagonal should be set to 0). \n",
    "* Matrices should not contain negative weights\n",
    "\n",
    "Further matrices may be binary or weighted, and dense or sparse. Binary matrices only consider whether or not there are streamlines between two ROIs. However, this may obscure some of the subtelty or heterogeneity especially in diseases such as Alzheimer's where connectivity may be altered not due to the absence of streamlines, but due their density or integrity. However, early graph theory measures were based on binary matrices, but today these are not as biologically plausible as weighted matrices. Moreover with the advent of methods such as ACT and microstructure informed tractogram filtering (e.g. SIFT, COMMIT) fiber density, and hence weighted matrices are more biologically plausible with fewer false positive streamlines. \n",
    "\n",
    "With regard to density: Various methods, such as SIFT and ACT aim to reduce the number of spurious streamlines. However, several proponents argue that is still necessary to \"filter\" streamlines or weak connections in the connectivity matrix by thresholding based on some value. Moreover, some of the graph theory metrics, such as the clustering coefficient, rely on sparse matrices. However, thresholding of matrices and determining the optimal level of sparsity is not well established, and remains arbitrary. \n",
    "\n",
    "For both of these considerations it is important to note that graph theory measures themselves may vary based on post-processing choices, such as density. \n",
    "\n",
    "<p align='center'>\n",
    "  <img src =\"images/SparsityEffect.gif\" alt='fodf' width=500/>\n",
    "</p>\n",
    "\n",
    "Effect of sparsity in group comparisons - https://ieeexplore.ieee.org/document/9871258\n",
    "\n",
    "So this is even another way of visualizing your data, or defining your optimal sparsity value, with which to calculate other GT metrics. \n"
   ]
  },
  {
   "cell_type": "code",
   "execution_count": null,
   "id": "994b89a5",
   "metadata": {},
   "outputs": [],
   "source": []
  },
  {
   "cell_type": "code",
   "execution_count": null,
   "id": "6fc8db30",
   "metadata": {},
   "outputs": [],
   "source": []
  }
 ],
 "metadata": {
  "kernelspec": {
   "display_name": "Python 3 (ipykernel)",
   "language": "python",
   "name": "python3"
  },
  "language_info": {
   "codemirror_mode": {
    "name": "ipython",
    "version": 3
   },
   "file_extension": ".py",
   "mimetype": "text/x-python",
   "name": "python",
   "nbconvert_exporter": "python",
   "pygments_lexer": "ipython3",
   "version": "3.9.10"
  }
 },
 "nbformat": 4,
 "nbformat_minor": 5
}

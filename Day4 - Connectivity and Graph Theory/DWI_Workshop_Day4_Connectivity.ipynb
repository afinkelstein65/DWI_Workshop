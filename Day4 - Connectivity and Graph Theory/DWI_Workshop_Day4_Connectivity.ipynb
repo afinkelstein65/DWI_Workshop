{
 "cells": [
  {
   "cell_type": "markdown",
   "id": "4fc06da9",
   "metadata": {},
   "source": [
    "# DWI Workshop - Connectivity\n",
    "\n",
    "Once you have a tractogram with your candidate streamlines there are then different ways to analyze your tractography analysis. One of the most common and popular currently is to perform connectivity analysis. \n",
    "\n",
    "\n",
    "- Review connectivity here "
   ]
  },
  {
   "cell_type": "code",
   "execution_count": 3,
   "id": "5559db94",
   "metadata": {},
   "outputs": [],
   "source": [
    "# Generation of a connectivity matrix \n",
    "\n",
    "# A connectivity matrix is an NxN matrix, where each node represents a region of interest, corresponding to a label\n",
    "# in a corresponding atlas. Several atlases exist and may yield different results. In general, we care about the \n",
    "# connections between GM structures (subcortical and cortical GM). So it is important to remove any superfluous labels\n",
    "# such as those corresponding to WM and CSF (ventricles) that would not be meaningful in a connectivity matrix. \n",
    "# This is important, as down-stream analysis will be affected by incorrect generation of matrices (i.e., graph theory)\n",
    "\n",
    "\n",
    "# We have provided a script for you based on a scilpy script. This script is specfific for the DKT atlas, \n",
    "# aparc+aseg.mgz, obtained after running freesurfer. You will need to update the labels in the script accordingly \n",
    "# based on what atlas you use, and the corresponding labels obtained from a lookup table. \n"
   ]
  },
  {
   "cell_type": "code",
   "execution_count": null,
   "id": "987cf97d",
   "metadata": {},
   "outputs": [],
   "source": []
  }
 ],
 "metadata": {
  "kernelspec": {
   "display_name": "Python 3 (ipykernel)",
   "language": "python",
   "name": "python3"
  },
  "language_info": {
   "codemirror_mode": {
    "name": "ipython",
    "version": 3
   },
   "file_extension": ".py",
   "mimetype": "text/x-python",
   "name": "python",
   "nbconvert_exporter": "python",
   "pygments_lexer": "ipython3",
   "version": "3.9.10"
  }
 },
 "nbformat": 4,
 "nbformat_minor": 5
}

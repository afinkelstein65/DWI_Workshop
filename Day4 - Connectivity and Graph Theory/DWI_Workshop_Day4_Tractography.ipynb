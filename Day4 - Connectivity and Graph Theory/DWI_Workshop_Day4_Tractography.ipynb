{
 "cells": [
  {
   "cell_type": "markdown",
   "id": "4fc06da9",
   "metadata": {},
   "source": [
    "# DWI Workshop - Fiber Tracking \n",
    "\n",
    "In general we need a wy to determine the principal dirrections from the diffusion data set, a set of stopping crietia, and a set of seeeds from which to begin tracking. \n"
   ]
  },
  {
   "cell_type": "code",
   "execution_count": 21,
   "id": "e5604a5e",
   "metadata": {},
   "outputs": [],
   "source": [
    "from dipy.core.gradients import gradient_table\n",
    "from dipy.data import get_fnames\n",
    "from dipy.io.gradients import read_bvals_bvecs\n",
    "from dipy.io.image import load_nifti, load_nifti_data\n",
    "import nibabel as nib\n",
    "import os \n",
    "import matplotlib.pyplot as plt\n",
    "import numpy as np\n",
    "from dipy.reconst.csdeconv import auto_response_ssst\n",
    "# from dipy.reconst.csdeconv import auto_response_msmt\n",
    "from dipy.reconst.shm import CsaOdfModel\n",
    "from dipy.data import default_sphere\n",
    "from dipy.direction import peaks_from_model\n",
    "from dipy.viz import window, actor, has_fury\n",
    "from PIL import Image\n",
    "from dipy.tracking.stopping_criterion import ThresholdStoppingCriterion\n",
    "from dipy.tracking import utils\n",
    "from dipy.tracking.local_tracking import LocalTracking\n",
    "from dipy. tracking.streamline import Streamlines"
   ]
  },
  {
   "cell_type": "code",
   "execution_count": 2,
   "id": "7f840367",
   "metadata": {},
   "outputs": [
    {
     "name": "stdout",
     "output_type": "stream",
     "text": [
      "(81, 106, 76)\n"
     ]
    }
   ],
   "source": [
    "datadir = '../Day2/data/stanford_hardi/'\n",
    "label_fname = get_fnames('stanford_labels')\n",
    "\n",
    "data = nib.load(os.path.join(datadir, 'HARDI150.nii.gz')).get_fdata()\n",
    "bvals, bvecs = read_bvals_bvecs(os.path.join(datadir, 'HARDI150.bval'), \n",
    "                               os.path.join(datadir, 'HARDI150.bvec'))\n",
    "\n",
    "\n",
    "labels = nib.load(os.path.join(label_fname)).get_fdata()\n",
    "print(labels.shape)"
   ]
  },
  {
   "cell_type": "code",
   "execution_count": 3,
   "id": "59227864",
   "metadata": {},
   "outputs": [
    {
     "data": {
      "image/png": "[encoded data removed]",
      "text/plain": [
       "<Figure size 504x504 with 1 Axes>"
      ]
     },
     "metadata": {
      "needs_background": "light"
     },
     "output_type": "display_data"
    }
   ],
   "source": [
    "# create a white matter mask. \n",
    "white_matter = (labels==1) | (labels==2)\n",
    "plt.figure(figsize=(7,7))\n",
    "plt.imshow(np.rot90(white_matter[:,:,30]),cmap='tab20'), plt.axis('off'), plt.title('Labels')\n",
    "plt.show()\n",
    "# will add MSMT later"
   ]
  },
  {
   "cell_type": "code",
   "execution_count": 4,
   "id": "48f309ce",
   "metadata": {},
   "outputs": [],
   "source": [
    "# Need to get ODFs to estimate directions from the diffusion dataset, estimated from the peaks of an ODF. \n",
    "gtab = gradient_table(bvals, bvecs)\n",
    "response, ratio = auto_response_ssst(gtab, data, roi_radii=10, fa_thr=0.7)"
   ]
  },
  {
   "cell_type": "code",
   "execution_count": 14,
   "id": "a99bc205",
   "metadata": {},
   "outputs": [],
   "source": [
    "csa_model = CsaOdfModel(gtab, sh_order=6)\n",
    "csa_peaks = peaks_from_model(csa_model, data, default_sphere, relative_peak_threshold=0.8, min_separation_angle=45,\n",
    "                            mask=white_matter)"
   ]
  },
  {
   "cell_type": "code",
   "execution_count": 6,
   "id": "d2113878",
   "metadata": {},
   "outputs": [],
   "source": [
    "interactive=True\n",
    "if has_fury: \n",
    "    scene = window.Scene()\n",
    "    scene.add(actor.peak_slicer(csa_peaks.peak_dirs, csa_peaks.peak_values, colors=None))\n",
    "    \n",
    "    window.record(scene, out_path='csa_direction_field.png', size=(900,900))\n",
    "\n"
   ]
  },
  {
   "cell_type": "code",
   "execution_count": 12,
   "id": "568f876f",
   "metadata": {},
   "outputs": [
    {
     "data": {
      "text/plain": [
       "(<matplotlib.image.AxesImage at 0x7fb5d7fbce80>, (-0.5, 99.5, 99.5, -0.5))"
      ]
     },
     "execution_count": 12,
     "metadata": {},
     "output_type": "execute_result"
    },
    {
     "data": {
      "image/png": "[encoded data removed]",
      "text/plain": [
       "<Figure size 576x576 with 1 Axes>"
      ]
     },
     "metadata": {
      "needs_background": "light"
     },
     "output_type": "display_data"
    }
   ],
   "source": [
    "plt.figure(figsize=(8,8))\n",
    "tmp = np.array(Image.open('csa_direction_field.png'))\n",
    "plt.imshow(tmp[300:400, 300:400,:]), plt.axis('off')"
   ]
  },
  {
   "cell_type": "code",
   "execution_count": 15,
   "id": "a2299d5c",
   "metadata": {},
   "outputs": [],
   "source": [
    "stopping_criterion = ThresholdStoppingCriterion(csa_peaks.gfa, 0.25)"
   ]
  },
  {
   "cell_type": "code",
   "execution_count": 20,
   "id": "25a184f4",
   "metadata": {},
   "outputs": [
    {
     "data": {
      "text/plain": [
       "<matplotlib.image.AxesImage at 0x7fb6114a0460>"
      ]
     },
     "execution_count": 20,
     "metadata": {},
     "output_type": "execute_result"
    },
    {
     "data": {
      "image/png": "[encoded data removed]",
      "text/plain": [
       "<Figure size 432x288 with 1 Axes>"
      ]
     },
     "metadata": {
      "needs_background": "light"
     },
     "output_type": "display_data"
    }
   ],
   "source": []
  },
  {
   "cell_type": "code",
   "execution_count": null,
   "id": "5559db94",
   "metadata": {},
   "outputs": [],
   "source": []
  }
 ],
 "metadata": {
  "kernelspec": {
   "display_name": "Python 3",
   "language": "python",
   "name": "python3"
  },
  "language_info": {
   "codemirror_mode": {
    "name": "ipython",
    "version": 3
   },
   "file_extension": ".py",
   "mimetype": "text/x-python",
   "name": "python",
   "nbconvert_exporter": "python",
   "pygments_lexer": "ipython3",
   "version": "3.8.8"
  }
 },
 "nbformat": 4,
 "nbformat_minor": 5
}

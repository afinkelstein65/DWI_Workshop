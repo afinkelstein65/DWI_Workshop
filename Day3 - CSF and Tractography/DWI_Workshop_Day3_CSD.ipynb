{
 "cells": [
  {
   "cell_type": "markdown",
   "id": "e3460261",
   "metadata": {},
   "source": [
    "# DWI Workshop - Day 3 \n",
    "\n",
    "## Constrained Spherical Deconvolution\n",
    "\n",
    "Signal is modelled as a convolution between the response function and the fODF. Since we want to get back the fODF - we need to deconvoled the DW signal with the response function. \n",
    "\n",
    "\n",
    "\n",
    "RUMBA-SF from DIPY is compatabile with single-shell and multi-shell. To perform multi-tissue CSD you need multi-shell data to differentiate CSF and GM. "
   ]
  }
 ],
 "metadata": {
  "kernelspec": {
   "display_name": "Python 3",
   "language": "python",
   "name": "python3"
  },
  "language_info": {
   "codemirror_mode": {
    "name": "ipython",
    "version": 3
   },
   "file_extension": ".py",
   "mimetype": "text/x-python",
   "name": "python",
   "nbconvert_exporter": "python",
   "pygments_lexer": "ipython3",
   "version": "3.8.8"
  }
 },
 "nbformat": 4,
 "nbformat_minor": 5
}

{
 "cells": [
  {
   "cell_type": "markdown",
   "id": "e3460261",
   "metadata": {},
   "source": [
    "# DWI Workshop - Day 3 \n",
    "\n",
    "## Constrained Spherical Deconvolution\n",
    "\n",
    "Signal is modelled as a convolution between the response function and the fODF. Since we want to get back the fODF - we need to deconvoled the DW signal with the response function. \n",
    "\n",
    "Note: All commands are shown here for educational purposes. Sample scripts are available, and can be run on bluehive. \n",
    "\n",
    "## MRtrix3\n",
    "\n",
    "The overall goal of CSD is to estimate the white matter fiber orientation distribution function (fODF), based on an estimated signal using deconvolution. The first step is to perform response function estimation, which is the estimated signal expected for a single-fiber white matter population. For multi-shell data, a separate response function may be estimated for WM and GM. \n",
    "\n",
    "#### Response function estimation. \n",
    "\n",
    "First you need to estimate the response functions which are used as the kernels for the deconvolution algorithm. Response functions are estimated from a voxel assumed to represent a coherent bundle of axons. For multi tissue (i.e., WM, GM) the response function may be just a number, representing the diffusivity of the expected tissue. "
   ]
  },
  {
   "cell_type": "code",
   "execution_count": 5,
   "id": "61571524",
   "metadata": {},
   "outputs": [],
   "source": [
    "# response function estimation \n",
    "# Don't run\n",
    "\n",
    "#!dwi2response dhollander Data/Data/dwi.mif wm_response.txt gm_response.txt csf_response.txt"
   ]
  },
  {
   "cell_type": "code",
   "execution_count": 19,
   "id": "b09b219b",
   "metadata": {},
   "outputs": [
    {
     "name": "stdout",
     "output_type": "stream",
     "text": [
      "/Users/afinkelstein/Documents/Projects/Data\n"
     ]
    }
   ],
   "source": [
    "# This is where I keep the data locally.\n",
    "# All data for these workshops can be found in the Box folder.\n",
    "# https://rochester.box.com/s/91t2eb0neym1zolozqml11tejikrb8kz \n",
    "\n",
    "%cd /Users/afinkelstein/Documents/Projects/Data"
   ]
  },
  {
   "cell_type": "code",
   "execution_count": 18,
   "id": "070e8693",
   "metadata": {},
   "outputs": [],
   "source": [
    "!shview wm.txt\n",
    "!shview gm.txt\n",
    "!shview csf.txt"
   ]
  },
  {
   "cell_type": "markdown",
   "id": "57b264a1",
   "metadata": {},
   "source": [
    "#### MSMT-CSD\n",
    "\n",
    "Once you have estimated the response functions using dwi2response, then you will perform deconvolution to estimate the fODF.\n",
    "\n",
    "<p align='center'>\n",
    "  <img src =\"images/CSD.jpg\" alt='fodf' width=500/>\n",
    "</p>"
   ]
  },
  {
   "cell_type": "code",
   "execution_count": null,
   "id": "aefc72cb",
   "metadata": {},
   "outputs": [],
   "source": [
    "# MSMT-CSD\n",
    "# Don't run \n",
    "\n",
    "#!dwi2fod msmt_csd ... "
   ]
  }
 ],
 "metadata": {
  "kernelspec": {
   "display_name": "Python 3 (ipykernel)",
   "language": "python",
   "name": "python3"
  },
  "language_info": {
   "codemirror_mode": {
    "name": "ipython",
    "version": 3
   },
   "file_extension": ".py",
   "mimetype": "text/x-python",
   "name": "python",
   "nbconvert_exporter": "python",
   "pygments_lexer": "ipython3",
   "version": "3.9.10"
  }
 },
 "nbformat": 4,
 "nbformat_minor": 5
}

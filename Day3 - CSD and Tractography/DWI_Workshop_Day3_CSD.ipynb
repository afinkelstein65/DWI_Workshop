{
 "cells": [
  {
   "attachments": {},
   "cell_type": "markdown",
   "id": "e3460261",
   "metadata": {},
   "source": [
    "# DWI Workshop - Day 3 \n",
    "\n",
    "## Constrained Spherical Deconvolution\n",
    "\n",
    "Signal is modelled as a convolution between the response function and the fODF. Since we want to get back the fODF - we need to deconvoled the DW signal with the response function. \n",
    "\n",
    "Note: All commands are shown here for educational purposes. Sample scripts are available, and can be run on bluehive. \n",
    "\n",
    "## MRtrix3\n",
    "\n",
    "The overall goal of CSD is to estimate the white matter fiber orientation distribution function (fODF), based on an estimated signal using deconvolution. The first step is to perform response function estimation, which is the estimated signal expected for a single-fiber white matter population. For multi-shell data, a separate response function may be estimated for WM and GM. \n",
    "\n",
    "#### [Response function estimation (MSMT v SSST)](https://mrtrix.readthedocs.io/en/dev/constrained_spherical_deconvolution/response_function_estimation.html#dhollander)\n",
    "\n",
    "First you need to estimate the response functions which are used as the kernels for the deconvolution algorithm. Response functions are estimated from a voxel assumed to represent a coherent bundle of axons. For multi tissue (i.e., WM, GM) the response function may be just a number, representing the diffusivity of the expected tissue. \n",
    "\n",
    "<p align='center'>\n",
    "  <img src =\"images/ResponseFunction.jpeg\" alt='fodf' width=300/>\n",
    "</p>\n",
    "\n",
    "<p align='center'>\n",
    "  <img src =\"images/MSMTvSSST.jpg\" alt='fodf' width=400/>\n",
    "</p>"
   ]
  },
  {
   "cell_type": "code",
   "execution_count": 5,
   "id": "a1fcb973",
   "metadata": {},
   "outputs": [],
   "source": [
    "# response function estimation \n",
    "# Don't run\n",
    "\n",
    "#!dwi2response dhollander Data/Data/dwi.mif wm_response.txt gm_response.txt csf_response.txt"
   ]
  },
  {
   "cell_type": "code",
   "execution_count": 2,
   "id": "ac231715",
   "metadata": {},
   "outputs": [
    {
     "name": "stdout",
     "output_type": "stream",
     "text": [
      "/Users/afinkelstein/Documents/Projects/Data\n"
     ]
    }
   ],
   "source": [
    "# This is where I keep the data locally.\n",
    "# All data for these workshops can be found in the Box folder.\n",
    "# https://rochester.box.com/s/91t2eb0neym1zolozqml11tejikrb8kz \n",
    "\n",
    "%cd /Users/afinkelstein/Documents/Projects/Data"
   ]
  },
  {
   "cell_type": "code",
   "execution_count": 2,
   "id": "b046d9bf",
   "metadata": {},
   "outputs": [],
   "source": [
    "!shview wm.txt\n",
    "!shview gm.txt\n",
    "!shview csf.txt"
   ]
  },
  {
   "cell_type": "markdown",
   "id": "4d524e69",
   "metadata": {},
   "source": [
    "#### MSMT-CSD\n",
    "\n",
    "Once you have estimated the response functions using dwi2response, then you will perform deconvolution to estimate the fODF.\n",
    "\n",
    "<p align='center'>\n",
    "  <img src =\"images/CSD.jpg\" alt='fodf' width=500/>\n",
    "</p>\n",
    "\n",
    "<p align='center'>\n",
    "  <img src =\"images/Sphericalfunctions.png\" alt='fodf' width=500/>\n",
    "</p>"
   ]
  },
  {
   "cell_type": "code",
   "execution_count": 20,
   "id": "50c9c0a7",
   "metadata": {},
   "outputs": [],
   "source": [
    "# MSMT-CSD\n",
    "# Don't run \n",
    "\n",
    "#!dwi2fod msmt_csd dwi_preproc.mif -mask BrainMask.nii.gz wm.txt wmfod.mif gm.txt gmfod.mif csf.txt csffod.mif\n",
    "#!mrconvert -coord 3 0 \"${ROOT}/wmfod.mif\" - | mrcat \"${ROOT}/csffod.mif\" \"${ROOT}/gmfod.mif\" - \"${ROOT}/vf.mif\" -force"
   ]
  },
  {
   "cell_type": "code",
   "execution_count": 21,
   "id": "5944ed7c",
   "metadata": {},
   "outputs": [],
   "source": [
    "!mrview vf.mif -odf.load_sh wmfod.mif"
   ]
  },
  {
   "cell_type": "code",
   "execution_count": 22,
   "id": "40e1f772",
   "metadata": {},
   "outputs": [],
   "source": [
    "!mrview vf.mif -odf.load_sh gmfod.mif"
   ]
  },
  {
   "cell_type": "code",
   "execution_count": 23,
   "id": "9efbcad8",
   "metadata": {},
   "outputs": [],
   "source": [
    "# Tissue Normalization: normalize tissue components from MT-CSD and outputs normalized \n",
    "# tissue components corrected for intensity inhomogeneities. \n",
    "\n",
    "#!mtnormalise \"${ROOT}/wmfod.mif\" \"${ROOT}/wmfod_norm.mif\" \"${ROOT}/gmfod.mif\" \\\n",
    "#\"${ROOT}/gmfod_norm.mif\" \"${ROOT}/csffod.mif\" \"${ROOT}/csffod_norm.mif\" -mask \"${ROOT}/${DWI_ROOT}_BrainMask.nii.gz\""
   ]
  },
  {
   "cell_type": "code",
   "execution_count": 4,
   "id": "28a5e5c6",
   "metadata": {},
   "outputs": [],
   "source": [
    "!mrview vf.mif -odf.load_sh wmfod_norm.mif"
   ]
  },
  {
   "cell_type": "code",
   "execution_count": 5,
   "id": "d054199e",
   "metadata": {},
   "outputs": [],
   "source": []
  },
  {
   "cell_type": "markdown",
   "id": "6814f5e4",
   "metadata": {},
   "source": [
    "Continue on to Day 3 Tractography ... "
   ]
  }
 ],
 "metadata": {
  "kernelspec": {
   "display_name": "Python 3 (ipykernel)",
   "language": "python",
   "name": "python3"
  },
  "language_info": {
   "codemirror_mode": {
    "name": "ipython",
    "version": 3
   },
   "file_extension": ".py",
   "mimetype": "text/x-python",
   "name": "python",
   "nbconvert_exporter": "python",
   "pygments_lexer": "ipython3",
   "version": "3.9.10"
  }
 },
 "nbformat": 4,
 "nbformat_minor": 5
}
